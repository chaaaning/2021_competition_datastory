{
 "cells": [
  {
   "cell_type": "code",
   "execution_count": 1,
   "metadata": {},
   "outputs": [],
   "source": [
    "import pandas as pd\n",
    "import numpy as np\n",
    "import os\n",
    "import seaborn as sns\n",
    "from matplotlib import pyplot as plt\n",
    "\n",
    "def row_num(x=None): return pd.set_option('display.max_rows',x)\n",
    "def col_num(x=None): return pd.set_option('display.max_columns',x)\n",
    "\n",
    "%matplotlib inline\n",
    "plt.rcParams['font.family'] = 'Malgun Gothic'\n",
    "plt.rcParams['font.size'] = 20\n",
    "plt.rcParams['figure.figsize'] = (16,9)\n",
    "plt.rcParams['axes.unicode_minus'] = False\n",
    "plt.style.use('ggplot')"
   ]
  },
  {
   "cell_type": "markdown",
   "metadata": {},
   "source": [
    "# 1.DATA LOAD\n",
    "---"
   ]
  },
  {
   "cell_type": "code",
   "execution_count": 6,
   "metadata": {},
   "outputs": [
    {
     "name": "stdout",
     "output_type": "stream",
     "text": [
      "<class 'pandas.core.frame.DataFrame'>\n",
      "RangeIndex: 229 entries, 0 to 228\n",
      "Data columns (total 29 columns):\n",
      " #   Column           Non-Null Count  Dtype \n",
      "---  ------           --------------  ----- \n",
      " 0   시군구코드            229 non-null    int64 \n",
      " 1   시도명              229 non-null    object\n",
      " 2   시군구명             229 non-null    object\n",
      " 3   2019_노인청소년_예산    229 non-null    int64 \n",
      " 4   2020_노인청소년_예산    229 non-null    int64 \n",
      " 5   예산변화량            229 non-null    int64 \n",
      " 6   2019_전체예산        229 non-null    int64 \n",
      " 7   2020_전체예산        229 non-null    int64 \n",
      " 8   2019_총인구         229 non-null    int64 \n",
      " 9   2020_총인구         229 non-null    int64 \n",
      " 10  2019_노인1인인구      229 non-null    int64 \n",
      " 11  2020_노인1인인구      229 non-null    int64 \n",
      " 12  2019_노인인구        229 non-null    int64 \n",
      " 13  2020_노인인구        229 non-null    int64 \n",
      " 14  총복지시설            229 non-null    int64 \n",
      " 15  노인주거복지시설         229 non-null    int64 \n",
      " 16  노인의료복지시설         229 non-null    int64 \n",
      " 17  노인여가복지시설         229 non-null    int64 \n",
      " 18  재가노인복지시설         229 non-null    int64 \n",
      " 19  노인일자리지원기관        229 non-null    int64 \n",
      " 20  학대피해노인전용쉼터       229 non-null    int64 \n",
      " 21  치매전담형장기요양기관      229 non-null    int64 \n",
      " 22  총종사자수            229 non-null    int64 \n",
      " 23  노인주거복지시설종사자수     229 non-null    int64 \n",
      " 24  노인의료복지시설종사자수     229 non-null    int64 \n",
      " 25  노인여가복지시설종사자수     229 non-null    int64 \n",
      " 26  재가노인복지시설종사자수     229 non-null    int64 \n",
      " 27  노인일자리지원기관종사자수    229 non-null    int64 \n",
      " 28  치매전담형장기요양기관종사자수  229 non-null    int64 \n",
      "dtypes: int64(27), object(2)\n",
      "memory usage: 52.0+ KB\n"
     ]
    }
   ],
   "source": [
    "df = pd.read_csv('../data/preprocessing/데이터정제_인구최종.csv', encoding='euc-kr')\n",
    "df.info()"
   ]
  },
  {
   "cell_type": "markdown",
   "metadata": {},
   "source": [
    "# 2.복지 시설\n",
    "---"
   ]
  },
  {
   "cell_type": "markdown",
   "metadata": {},
   "source": [
    "## 2.1. 노인 비율 지표화\n",
    "---\n",
    "- 노인 비율은 $노인 인구 수 \\over 총 인구 수$ 로 나타낸다.\n",
    "- 비율이 높을 수록 복지 기대치가 높은 지역이다."
   ]
  },
  {
   "cell_type": "code",
   "execution_count": 7,
   "metadata": {},
   "outputs": [],
   "source": [
    "df_score = df.iloc[:,:3].copy()"
   ]
  },
  {
   "cell_type": "code",
   "execution_count": 8,
   "metadata": {},
   "outputs": [
    {
     "name": "stdout",
     "output_type": "stream",
     "text": [
      "<class 'pandas.core.frame.DataFrame'>\n",
      "RangeIndex: 229 entries, 0 to 228\n",
      "Data columns (total 4 columns):\n",
      " #   Column  Non-Null Count  Dtype  \n",
      "---  ------  --------------  -----  \n",
      " 0   시군구코드   229 non-null    int64  \n",
      " 1   시도명     229 non-null    object \n",
      " 2   시군구명    229 non-null    object \n",
      " 3   노인인구비   229 non-null    float64\n",
      "dtypes: float64(1), int64(1), object(2)\n",
      "memory usage: 7.3+ KB\n"
     ]
    }
   ],
   "source": [
    "df_score['노인인구비'] = df['2019_노인인구'].values/df['2019_총인구'].values\n",
    "df_score.info()"
   ]
  },
  {
   "cell_type": "code",
   "execution_count": 9,
   "metadata": {},
   "outputs": [
    {
     "data": {
      "text/html": [
       "<div>\n",
       "<style scoped>\n",
       "    .dataframe tbody tr th:only-of-type {\n",
       "        vertical-align: middle;\n",
       "    }\n",
       "\n",
       "    .dataframe tbody tr th {\n",
       "        vertical-align: top;\n",
       "    }\n",
       "\n",
       "    .dataframe thead th {\n",
       "        text-align: right;\n",
       "    }\n",
       "</style>\n",
       "<table border=\"1\" class=\"dataframe\">\n",
       "  <thead>\n",
       "    <tr style=\"text-align: right;\">\n",
       "      <th></th>\n",
       "      <th>시군구코드</th>\n",
       "      <th>시도명</th>\n",
       "      <th>시군구명</th>\n",
       "      <th>노인인구비</th>\n",
       "    </tr>\n",
       "  </thead>\n",
       "  <tbody>\n",
       "    <tr>\n",
       "      <th>172</th>\n",
       "      <td>36350</td>\n",
       "      <td>전라남도</td>\n",
       "      <td>고흥군</td>\n",
       "      <td>0.423788</td>\n",
       "    </tr>\n",
       "    <tr>\n",
       "      <th>197</th>\n",
       "      <td>37320</td>\n",
       "      <td>경상북도</td>\n",
       "      <td>의성군</td>\n",
       "      <td>0.415749</td>\n",
       "    </tr>\n",
       "    <tr>\n",
       "      <th>196</th>\n",
       "      <td>37310</td>\n",
       "      <td>경상북도</td>\n",
       "      <td>군위군</td>\n",
       "      <td>0.404530</td>\n",
       "    </tr>\n",
       "    <tr>\n",
       "      <th>226</th>\n",
       "      <td>38400</td>\n",
       "      <td>경상남도</td>\n",
       "      <td>합천군</td>\n",
       "      <td>0.402554</td>\n",
       "    </tr>\n",
       "    <tr>\n",
       "      <th>173</th>\n",
       "      <td>36360</td>\n",
       "      <td>전라남도</td>\n",
       "      <td>보성군</td>\n",
       "      <td>0.401054</td>\n",
       "    </tr>\n",
       "    <tr>\n",
       "      <th>...</th>\n",
       "      <td>...</td>\n",
       "      <td>...</td>\n",
       "      <td>...</td>\n",
       "      <td>...</td>\n",
       "    </tr>\n",
       "    <tr>\n",
       "      <th>67</th>\n",
       "      <td>25040</td>\n",
       "      <td>대전광역시</td>\n",
       "      <td>유성구</td>\n",
       "      <td>0.079715</td>\n",
       "    </tr>\n",
       "    <tr>\n",
       "      <th>88</th>\n",
       "      <td>31140</td>\n",
       "      <td>경기도</td>\n",
       "      <td>오산시</td>\n",
       "      <td>0.079441</td>\n",
       "    </tr>\n",
       "    <tr>\n",
       "      <th>98</th>\n",
       "      <td>31240</td>\n",
       "      <td>경기도</td>\n",
       "      <td>화성시</td>\n",
       "      <td>0.075742</td>\n",
       "    </tr>\n",
       "    <tr>\n",
       "      <th>89</th>\n",
       "      <td>31150</td>\n",
       "      <td>경기도</td>\n",
       "      <td>시흥시</td>\n",
       "      <td>0.073812</td>\n",
       "    </tr>\n",
       "    <tr>\n",
       "      <th>72</th>\n",
       "      <td>26040</td>\n",
       "      <td>울산광역시</td>\n",
       "      <td>북구</td>\n",
       "      <td>0.070175</td>\n",
       "    </tr>\n",
       "  </tbody>\n",
       "</table>\n",
       "<p>229 rows × 4 columns</p>\n",
       "</div>"
      ],
      "text/plain": [
       "     시군구코드    시도명 시군구명     노인인구비\n",
       "172  36350   전라남도  고흥군  0.423788\n",
       "197  37320   경상북도  의성군  0.415749\n",
       "196  37310   경상북도  군위군  0.404530\n",
       "226  38400   경상남도  합천군  0.402554\n",
       "173  36360   전라남도  보성군  0.401054\n",
       "..     ...    ...  ...       ...\n",
       "67   25040  대전광역시  유성구  0.079715\n",
       "88   31140    경기도  오산시  0.079441\n",
       "98   31240    경기도  화성시  0.075742\n",
       "89   31150    경기도  시흥시  0.073812\n",
       "72   26040  울산광역시   북구  0.070175\n",
       "\n",
       "[229 rows x 4 columns]"
      ]
     },
     "execution_count": 9,
     "metadata": {},
     "output_type": "execute_result"
    }
   ],
   "source": [
    "df_score.sort_values(by='노인인구비',ascending=False)"
   ]
  },
  {
   "cell_type": "code",
   "execution_count": 10,
   "metadata": {},
   "outputs": [],
   "source": [
    "# # 노인인구비 상위 10개 지역 확인\n",
    "# plt.title('노인인구비 상위 10개 지역')\n",
    "# plt.bar(df.iloc[])"
   ]
  },
  {
   "cell_type": "code",
   "execution_count": 11,
   "metadata": {},
   "outputs": [
    {
     "name": "stderr",
     "output_type": "stream",
     "text": [
      "C:\\Users\\yunjc\\anaconda3\\lib\\site-packages\\seaborn\\distributions.py:2619: FutureWarning: `distplot` is a deprecated function and will be removed in a future version. Please adapt your code to use either `displot` (a figure-level function with similar flexibility) or `histplot` (an axes-level function for histograms).\n",
      "  warnings.warn(msg, FutureWarning)\n"
     ]
    },
    {
     "data": {
      "image/png": "[encoded data removed]",
      "text/plain": [
       "<Figure size 1152x648 with 1 Axes>"
      ]
     },
     "metadata": {},
     "output_type": "display_data"
    }
   ],
   "source": [
    "# 노인 인구 분포 확인하기\n",
    "plt.title('노인인구비',size=20)\n",
    "sns.distplot(df_score['노인인구비'])\n",
    "plt.show()"
   ]
  },
  {
   "cell_type": "code",
   "execution_count": null,
   "metadata": {},
   "outputs": [],
   "source": []
  }
 ],
 "metadata": {
  "interpreter": {
   "hash": "d4576b5319827f6bc06284c622af9275fa0d40cfa27315b28dba6ed73bbabe70"
  },
  "kernelspec": {
   "display_name": "Python 3 (ipykernel)",
   "language": "python",
   "name": "python3"
  },
  "language_info": {
   "codemirror_mode": {
    "name": "ipython",
    "version": 3
   },
   "file_extension": ".py",
   "mimetype": "text/x-python",
   "name": "python",
   "nbconvert_exporter": "python",
   "pygments_lexer": "ipython3",
   "version": "3.8.12"
  }
 },
 "nbformat": 4,
 "nbformat_minor": 4
}
